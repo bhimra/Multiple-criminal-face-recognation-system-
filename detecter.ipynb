{
 "cells": [
  {
   "cell_type": "code",
   "execution_count": 9,
   "metadata": {},
   "outputs": [
    {
     "ename": "error",
     "evalue": "C:\\projects\\opencv-python\\opencv_contrib\\modules\\face\\src\\facerec.cpp:61: error: (-2) File can't be opened for reading! in function cv::face::FaceRecognizer::read\n",
     "output_type": "error",
     "traceback": [
      "\u001b[1;31m---------------------------------------------------------------------------\u001b[0m",
      "\u001b[1;31merror\u001b[0m                                     Traceback (most recent call last)",
      "\u001b[1;32m<ipython-input-9-eb06e1419596>\u001b[0m in \u001b[0;36m<module>\u001b[1;34m()\u001b[0m\n\u001b[0;32m      2\u001b[0m \u001b[1;32mimport\u001b[0m \u001b[0mwebbrowser\u001b[0m\u001b[1;33m\u001b[0m\u001b[0m\n\u001b[0;32m      3\u001b[0m \u001b[0mrecognizer\u001b[0m \u001b[1;33m=\u001b[0m \u001b[0mcv2\u001b[0m\u001b[1;33m.\u001b[0m\u001b[0mface\u001b[0m\u001b[1;33m.\u001b[0m\u001b[0mLBPHFaceRecognizer_create\u001b[0m\u001b[1;33m(\u001b[0m\u001b[1;33m)\u001b[0m\u001b[1;33m\u001b[0m\u001b[0m\n\u001b[1;32m----> 4\u001b[1;33m \u001b[0mrecognizer\u001b[0m\u001b[1;33m.\u001b[0m\u001b[0mread\u001b[0m\u001b[1;33m(\u001b[0m\u001b[1;34m'trainner2.yml'\u001b[0m\u001b[1;33m)\u001b[0m\u001b[1;33m\u001b[0m\u001b[0m\n\u001b[0m\u001b[0;32m      5\u001b[0m \u001b[0mcascadePath\u001b[0m \u001b[1;33m=\u001b[0m \u001b[1;33m(\u001b[0m\u001b[1;34m\"haarcascade_frontalface_default.xml\"\u001b[0m\u001b[1;33m)\u001b[0m\u001b[1;33m\u001b[0m\u001b[0m\n\u001b[0;32m      6\u001b[0m \u001b[0mfaceCascade\u001b[0m \u001b[1;33m=\u001b[0m \u001b[0mcv2\u001b[0m\u001b[1;33m.\u001b[0m\u001b[0mCascadeClassifier\u001b[0m\u001b[1;33m(\u001b[0m\u001b[0mcascadePath\u001b[0m\u001b[1;33m)\u001b[0m\u001b[1;33m;\u001b[0m\u001b[1;33m\u001b[0m\u001b[0m\n",
      "\u001b[1;31merror\u001b[0m: C:\\projects\\opencv-python\\opencv_contrib\\modules\\face\\src\\facerec.cpp:61: error: (-2) File can't be opened for reading! in function cv::face::FaceRecognizer::read\n"
     ]
    }
   ],
   "source": [
    "import cv2\n",
    "import webbrowser\n",
    "recognizer = cv2.face.LBPHFaceRecognizer_create()\n",
    "recognizer.read('trainner2.yml')\n",
    "cascadePath = (\"haarcascade_frontalface_default.xml\")\n",
    "faceCascade = cv2.CascadeClassifier(cascadePath);\n",
    "cam = cv2.VideoCapture(0)\n",
    "font = cv2.FONT_HERSHEY_SIMPLEX\n",
    "while True:\n",
    "    ret,im =cam.read()\n",
    "    gray=cv2.cvtColor(im,cv2.COLOR_BGR2GRAY)\n",
    "    #gray = cv2.imread(im,0)\n",
    "    faces=faceCascade.detectMultiScale(gray, 1.2,5)\n",
    "    for(x,y,w,h) in faces:\n",
    "        cv2.rectangle(im,(x,y),(x+w,y+h),(225,0,0),2)\n",
    "        Id, conf = recognizer.predict(gray[y:y+h,x:x+w])\n",
    "        print(Id)\n",
    "        a=\" \"\n",
    "        b=\" \"\n",
    "        d =\"\"\n",
    "        if(conf<50):\n",
    "            if(Id==1):\n",
    "                a =\"anurag present\"\n",
    "                  #webbrowser.open_new_tab(\"http://192.168.43.88\")\n",
    "                \n",
    "                #cv2.putText(im,str(Id),(10,200),cv2.FONT_HERSHEY_TRIPLEX,0.5,(0.233,9),2)\n",
    "            \n",
    "            elif(Id==2):\n",
    "                b  =\"alok present\"\n",
    "            else:\n",
    "                d=\"unknown\"\n",
    "        #cv2.PutText(im,str(Id), (x,y+h),font,255)\n",
    "        cv2.putText(im,str(Id),(10,200),cv2.FONT_HERSHEY_TRIPLEX,0.5,(0.233,9),2)\n",
    "        cv2.putText(im,str(a),(10,200),cv2.FONT_HERSHEY_TRIPLEX,0.5,(0.233,9),2)\n",
    "        cv2.putText(im,str(b),(40,400),cv2.FONT_HERSHEY_TRIPLEX,0.5,(0.233,9),2)\n",
    "        cv2.putText(im,str(d),(35,200),cv2.FONT_HERSHEY_TRIPLEX,0.5,(0.233,9),2)    \n",
    "    cv2.imshow('im',im) \n",
    "    if cv2.waitKey(100) & 0xFF == ord('q'):\n",
    "        break\n",
    "cam.release()\n",
    "cv2.destroyAllWindows()"
   ]
  },
  {
   "cell_type": "code",
   "execution_count": null,
   "metadata": {},
   "outputs": [],
   "source": [
    "\n"
   ]
  },
  {
   "cell_type": "code",
   "execution_count": null,
   "metadata": {},
   "outputs": [],
   "source": []
  },
  {
   "cell_type": "code",
   "execution_count": null,
   "metadata": {},
   "outputs": [],
   "source": []
  },
  {
   "cell_type": "code",
   "execution_count": null,
   "metadata": {},
   "outputs": [],
   "source": []
  }
 ],
 "metadata": {
  "kernelspec": {
   "display_name": "Python 3",
   "language": "python",
   "name": "python3"
  },
  "language_info": {
   "codemirror_mode": {
    "name": "ipython",
    "version": 3
   },
   "file_extension": ".py",
   "mimetype": "text/x-python",
   "name": "python",
   "nbconvert_exporter": "python",
   "pygments_lexer": "ipython3",
   "version": "3.6.4"
  }
 },
 "nbformat": 4,
 "nbformat_minor": 2
}
